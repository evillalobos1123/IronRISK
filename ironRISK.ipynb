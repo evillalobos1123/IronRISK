{
 "cells": [
  {
   "cell_type": "code",
   "execution_count": 20,
   "metadata": {},
   "outputs": [],
   "source": [
    "import random"
   ]
  },
  {
   "cell_type": "code",
   "execution_count": 21,
   "metadata": {},
   "outputs": [],
   "source": [
    "paises=('Alaska', 'Alberta', 'Mexico', 'Sureste', 'Groelandia', 'Noreste', 'Ontario', 'Quebec','Oeste')\n",
    "jugador1=[]\n",
    "jugador2=[]\n",
    "neutral = []"
   ]
  },
  {
   "cell_type": "code",
   "execution_count": 28,
   "metadata": {},
   "outputs": [],
   "source": [
    "def Pais_R(paises):\n",
    "    return random.sample(paises, 9)\n",
    "    "
   ]
  },
  {
   "cell_type": "code",
   "execution_count": 29,
   "metadata": {},
   "outputs": [],
   "source": [
    "sorteo = Pais_R(paises)"
   ]
  },
  {
   "cell_type": "code",
   "execution_count": 30,
   "metadata": {},
   "outputs": [
    {
     "name": "stdout",
     "output_type": "stream",
     "text": [
      "[['Sureste', 'Groelandia', 'Noreste', 'Oeste', 'Ontario', 'Alaska', 'Alberta', 'Quebec', 'Mexico', 'Sureste', 'Groelandia', 'Noreste', 'Oeste', 'Ontario', 'Alaska', 'Alberta', 'Quebec', 'Mexico', 'Mexico', 'Groelandia', 'Ontario', 'Alberta', 'Alaska', 'Sureste', 'Oeste', 'Quebec', 'Noreste'], ['Sureste', 'Groelandia', 'Noreste', 'Oeste', 'Ontario', 'Alaska', 'Alberta', 'Quebec', 'Mexico', 'Sureste', 'Groelandia', 'Noreste', 'Oeste', 'Ontario', 'Alaska', 'Alberta', 'Quebec', 'Mexico', 'Mexico', 'Groelandia', 'Ontario', 'Alberta', 'Alaska', 'Sureste', 'Oeste', 'Quebec', 'Noreste'], ['Sureste', 'Groelandia', 'Noreste', 'Oeste', 'Ontario', 'Alaska', 'Alberta', 'Quebec', 'Mexico', 'Sureste', 'Groelandia', 'Noreste', 'Oeste', 'Ontario', 'Alaska', 'Alberta', 'Quebec', 'Mexico', 'Mexico', 'Groelandia', 'Ontario', 'Alberta', 'Alaska', 'Sureste', 'Oeste', 'Quebec', 'Noreste']]\n"
     ]
    }
   ],
   "source": [
    "    "
   ]
  },
  {
   "cell_type": "code",
   "execution_count": null,
   "metadata": {},
   "outputs": [],
   "source": []
  }
 ],
 "metadata": {
  "kernelspec": {
   "display_name": "Python 3",
   "language": "python",
   "name": "python3"
  },
  "language_info": {
   "codemirror_mode": {
    "name": "ipython",
    "version": 3
   },
   "file_extension": ".py",
   "mimetype": "text/x-python",
   "name": "python",
   "nbconvert_exporter": "python",
   "pygments_lexer": "ipython3",
   "version": "3.7.0"
  }
 },
 "nbformat": 4,
 "nbformat_minor": 2
}
